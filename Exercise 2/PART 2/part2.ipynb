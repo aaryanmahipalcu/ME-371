{
 "cells": [
  {
   "cell_type": "code",
   "execution_count": null,
   "metadata": {},
   "outputs": [],
   "source": [
    "import pandas as pd \n",
    "import numpy as np\n",
    "\n",
    "# Step 1: Load the DataFrames\n",
    "systems_df = pd.read_csv('systems.csv')\n",
    "sensors_df = pd.read_csv('sensors.csv')\n",
    "measurements_df = pd.read_csv('measurements.csv')\n",
    "control_actions_df = pd.read_csv('control_actions.csv')\n",
    "signal_data_df = pd.read_csv('signal_data.csv')\n",
    "signal_characteristics_df = pd.read_csv('signal_characteristics.csv')"
   ]
  }
 ],
 "metadata": {
  "kernelspec": {
   "display_name": "base",
   "language": "python",
   "name": "python3"
  },
  "language_info": {
   "name": "python",
   "version": "3.9.7"
  }
 },
 "nbformat": 4,
 "nbformat_minor": 2
}
