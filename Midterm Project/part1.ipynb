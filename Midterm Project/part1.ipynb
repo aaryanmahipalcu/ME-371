{
 "cells": [
  {
   "cell_type": "code",
   "execution_count": 3,
   "metadata": {},
   "outputs": [
    {
     "name": "stderr",
     "output_type": "stream",
     "text": [
      "Matplotlib is building the font cache; this may take a moment.\n"
     ]
    }
   ],
   "source": [
    "# Authors: Aaryan Mahipal, Amelia Roopnarine\n",
    "# Task 1.1: Load and Explore the Data\n",
    "# Write a function to load the fluid flow data and explore its basic properties. \n",
    "\n",
    "import numpy as np\n",
    "import matplotlib.pyplot as plt\n",
    "\n",
    "def load_fluid_flow_data(file_path):\n",
    "    \"\"\"\n",
    "    Load fluid flow data from a file and return it as a numpy array.\n",
    "    \n",
    "    Parameters:\n",
    "    file_path (str): Path to the data file\n",
    "    \n",
    "    Returns:\n",
    "    np.array: 3D array of shape (n_timesteps, n_x, n_y) containing fluid flow data\n",
    "    \"\"\"\n",
    "    # Your code here\n",
    "    pass"
   ]
  }
 ],
 "metadata": {
  "kernelspec": {
   "display_name": "Python 3",
   "language": "python",
   "name": "python3"
  },
  "language_info": {
   "codemirror_mode": {
    "name": "ipython",
    "version": 3
   },
   "file_extension": ".py",
   "mimetype": "text/x-python",
   "name": "python",
   "nbconvert_exporter": "python",
   "pygments_lexer": "ipython3",
   "version": "3.9.6"
  }
 },
 "nbformat": 4,
 "nbformat_minor": 2
}
