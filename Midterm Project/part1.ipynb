{
 "cells": [
  {
   "cell_type": "code",
   "execution_count": 3,
   "metadata": {},
   "outputs": [
    {
     "name": "stderr",
     "output_type": "stream",
     "text": [
      "Matplotlib is building the font cache; this may take a moment.\n"
     ]
    }
   ],
   "source": [
    "# Authors: Aaryan Mahipal, Amelia Roopnarine\n",
    "# Task 1.1: Load and Explore the Data\n",
    "# Write a function to load the fluid flow data and explore its basic properties. \n",
    "\n",
    "import numpy as np\n",
    "import matplotlib.pyplot as plt\n",
    "\n",
    "def load_fluid_flow_data(file_path):\n",
    "    \"\"\"\n",
    "    Load fluid flow data from a file and return it as a numpy array.\n",
    "    \n",
    "    Parameters:\n",
    "    file_path (str): Path to the data file\n",
    "    \n",
    "    Returns:\n",
    "    np.array: 3D array of shape (n_timesteps, n_x, n_y) containing fluid flow data\n",
    "    \"\"\"\n",
    "    # Your code here\n",
    "    pass"
   ]
  },
  {
   "cell_type": "code",
   "execution_count": null,
   "metadata": {},
   "outputs": [],
   "source": [
    "def plot_flow_field(flow_data, timestep):\n",
    "    \"\"\"\n",
    "    Plot the flow field at a given timestep.\n",
    "    NOTE:\n",
    "        - use imshow from matplotlib library\n",
    "        - use extent=[-2, 4, -1, 1] and aspect='equal' options in your imshow plot to get better visulizations\n",
    "\n",
    "\n",
    "    Parameters:\n",
    "    flow_data (np.array): 3D array of fluid flow data\n",
    "    timestep (int): Timestep to plot\n",
    "    \"\"\"\n",
    "    # Your code here\n",
    "    pass"
   ]
  },
  {
   "cell_type": "code",
   "execution_count": null,
   "metadata": {},
   "outputs": [],
   "source": [
    "# Example usage\n",
    "data = load_fluid_flow_data('cylinder_flow_data.npy')\n",
    "plot_flow_field(data, timestep=0)"
   ]
  },
  {
   "cell_type": "code",
   "execution_count": null,
   "metadata": {},
   "outputs": [],
   "source": [
    "# Task 1.2: Reshape the data for DMD\n",
    "# DMD requires the data to be in a specific format. We need to reshape our 3D flow field data (time, x, y) into a 2D matrix where each column represents a flattened snapshot of the flow field at a particular time. \n",
    "def reshape_for_dmd(flow_data):\n",
    "    \"\"\"\n",
    "    Reshape 3D flow data into a 2D matrix suitable for DMD.\n",
    "\n",
    "    Parameters:\n",
    "    flow_data (np.array): 3D array of shape (n_timesteps, n_x, n_y)\n",
    "\n",
    "    Returns:\n",
    "    np.array: 2D array of shape (n_x * n_y, n_timesteps)\n",
    "    \"\"\"\n",
    "    # Your code here\n",
    "    pass"
   ]
  }
 ],
 "metadata": {
  "kernelspec": {
   "display_name": "Python 3",
   "language": "python",
   "name": "python3"
  },
  "language_info": {
   "codemirror_mode": {
    "name": "ipython",
    "version": 3
   },
   "file_extension": ".py",
   "mimetype": "text/x-python",
   "name": "python",
   "nbconvert_exporter": "python",
   "pygments_lexer": "ipython3",
   "version": "3.9.6"
  }
 },
 "nbformat": 4,
 "nbformat_minor": 2
}
